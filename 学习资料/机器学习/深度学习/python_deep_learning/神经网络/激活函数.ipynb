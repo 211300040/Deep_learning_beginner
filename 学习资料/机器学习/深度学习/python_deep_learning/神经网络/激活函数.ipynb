{
 "cells": [
  {
   "cell_type": "code",
   "execution_count": null,
   "metadata": {},
   "outputs": [],
   "source": [
    "import numpy as np \n",
    "import matplotlib.pylab as plt \n",
    "def step_function(x):\n",
    "    y = x > 0\n",
    "    return y.astype(np.int64)\n",
    "def draw_function(x,y):\n",
    "    plt.plot(x,y)\n",
    "    plt.ylim(-0.1,1.1) # 指定y轴范围\n",
    "    plt.show()\n",
    "x = np.arange(-5.0,5.0,0.1)\n",
    "draw_function(x,step_function(x))\n",
    "\n",
    "def sigmoid(x):\n",
    "    return 1 / (1 + np.exp(-x))\n",
    "draw_function(x,sigmoid(x))\n",
    "\n",
    "def relu(x):\n",
    "    return np.maximum(0,x)\n",
    "draw_function(x,relu(x))\n",
    "\n",
    "def soft_max(x):\n",
    "    \"\"\"防止溢出做了优化处理\"\"\"\n",
    "    c = np.max(x)\n",
    "    exp_x = np.exp(x-c) # 防止溢出\n",
    "    sum_exp_x = np.sum(exp_x)\n",
    "    y = exp_x / sum_exp_x\n",
    "    return y \n",
    "\n",
    "draw_function(x,soft_max(x))"
   ]
  }
 ],
 "metadata": {
  "kernelspec": {
   "display_name": "Python 3.10.2 64-bit",
   "language": "python",
   "name": "python3"
  },
  "language_info": {
   "codemirror_mode": {
    "name": "ipython",
    "version": 3
   },
   "file_extension": ".py",
   "mimetype": "text/x-python",
   "name": "python",
   "nbconvert_exporter": "python",
   "pygments_lexer": "ipython3",
   "version": "3.10.2"
  },
  "orig_nbformat": 4,
  "vscode": {
   "interpreter": {
    "hash": "369f2c481f4da34e4445cda3fffd2e751bd1c4d706f27375911949ba6bb62e1c"
   }
  }
 },
 "nbformat": 4,
 "nbformat_minor": 2
}
